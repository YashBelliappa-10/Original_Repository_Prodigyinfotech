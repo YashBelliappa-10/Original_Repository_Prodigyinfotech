{
  "nbformat": 4,
  "nbformat_minor": 0,
  "metadata": {
    "colab": {
      "provenance": [],
      "authorship_tag": "ABX9TyOnQ4Vr1FrMIUyUftzcAzKy",
      "include_colab_link": true
    },
    "kernelspec": {
      "name": "python3",
      "display_name": "Python 3"
    },
    "language_info": {
      "name": "python"
    }
  },
  "cells": [
    {
      "cell_type": "markdown",
      "metadata": {
        "id": "view-in-github",
        "colab_type": "text"
      },
      "source": [
        "<a href=\"https://colab.research.google.com/github/YashBelliappa-10/PRODIGY_ML/blob/main/MY_MAIN_TASK_3.ipynb\" target=\"_parent\"><img src=\"https://colab.research.google.com/assets/colab-badge.svg\" alt=\"Open In Colab\"/></a>"
      ]
    },
    {
      "cell_type": "code",
      "source": [
        "from zipfile import ZipFile\n",
        "\n",
        "dataset_train = \"train1.zip\"\n",
        "\n",
        "with ZipFile(dataset_train, 'r') as zip:\n",
        "    zip.extractall()"
      ],
      "metadata": {
        "id": "y1R8xNld3cIt"
      },
      "execution_count": 21,
      "outputs": []
    },
    {
      "cell_type": "code",
      "source": [
        "import os\n",
        "import numpy as np\n",
        "from sklearn.svm import SVC\n",
        "from sklearn.metrics import classification_report, confusion_matrix\n",
        "import matplotlib.pyplot as plt\n",
        "from tqdm import tqdm\n",
        "import joblib\n",
        "from sklearn.model_selection import GridSearchCV\n",
        "import cv2\n",
        "import seaborn as sns\n",
        "import time\n",
        "from sklearn.decomposition import PCA\n",
        "from sklearn.pipeline import Pipeline\n",
        "from sklearn.model_selection import train_test_split"
      ],
      "metadata": {
        "id": "Iqa_b3FZ4Ope"
      },
      "execution_count": 4,
      "outputs": []
    },
    {
      "cell_type": "code",
      "source": [
        "folder_path = f\"Dataset/\"\n",
        "os.makedirs(folder_path, exist_ok=True)\n",
        "\n",
        "# define path\n",
        "confusion_image_path = os.path.join(folder_path, 'confusion matrix.png')\n",
        "classification_file_path = os.path.join(folder_path, 'classification_report.txt')\n",
        "model_file_path = os.path.join(folder_path, \"svm_model.pkl\")\n",
        "\n",
        "# Path dataset\n",
        "dataset_dir = \"Dataset/\"\n",
        "train_dir = os.path.join(dataset_dir, \"train\")\n",
        "test_dir = os.path.join(dataset_dir, \"test1\")"
      ],
      "metadata": {
        "id": "o6n20T1H6QuP"
      },
      "execution_count": 13,
      "outputs": []
    },
    {
      "cell_type": "code",
      "source": [
        "# load data, preprocessing data, and labeling\n",
        "# dog = 1, cat = 0\n",
        "train_images = os.listdir(train_dir)\n",
        "features = []\n",
        "labels = []\n",
        "image_size = (50, 50)\n",
        "\n",
        "# Proses train images\n",
        "for image in tqdm(train_images, desc=\"Processing Train Images\"):\n",
        "    if image[0:3] == 'cat':\n",
        "        label = 0\n",
        "    else:\n",
        "        label = 1\n",
        "    # Construct the full image path\n",
        "    image_path = os.path.join(train_dir, image)\n",
        "    image_read = cv2.imread(image_path)\n",
        "    image_resized = cv2.resize(image_read, image_size)\n",
        "    image_normalized = image_resized / 255.0\n",
        "    image_flatten = image_normalized.flatten()\n",
        "    features.append(image_flatten)\n",
        "    labels.append(label)"
      ],
      "metadata": {
        "colab": {
          "base_uri": "https://localhost:8080/"
        },
        "id": "uilzOdV36cxP",
        "outputId": "b2b19723-1b6a-4bcc-c484-fa58bfa538c6"
      },
      "execution_count": 16,
      "outputs": [
        {
          "output_type": "stream",
          "name": "stderr",
          "text": [
            "Processing Train Images: 100%|██████████| 25000/25000 [00:45<00:00, 549.13it/s]\n"
          ]
        }
      ]
    },
    {
      "cell_type": "code",
      "source": [
        "del train_images"
      ],
      "metadata": {
        "id": "n2OCXWFp7ypp"
      },
      "execution_count": 17,
      "outputs": []
    },
    {
      "cell_type": "code",
      "source": [
        "features = np.asarray(features)\n",
        "labels = np.asarray(labels)\n",
        "\n",
        "# train test split\n",
        "X_train, X_test, y_train, y_test = train_test_split(features, labels, test_size=0.2, shuffle=True, random_state=42)"
      ],
      "metadata": {
        "id": "rc8GNEu475X4"
      },
      "execution_count": 18,
      "outputs": []
    },
    {
      "cell_type": "code",
      "source": [
        "del features\n",
        "del labels"
      ],
      "metadata": {
        "id": "6__PEcmg79yZ"
      },
      "execution_count": 19,
      "outputs": []
    },
    {
      "cell_type": "code",
      "source": [
        "# PCA, SVM, & Pipeline\n",
        "n_components = 0.8\n",
        "pca = PCA(n_components=n_components)\n",
        "svm = SVC()\n",
        "pca = PCA(n_components=n_components, random_state=42)\n",
        "pipeline = Pipeline([\n",
        "    ('pca', pca),\n",
        "    ('svm', svm)\n",
        "])\n",
        "param_grid = {\n",
        "    'pca__n_components': [2, 1, 0.9, 0.8],\n",
        "    'svm__kernel': ['linear', 'rbf', 'poly', 'sigmoid'],\n",
        "}\n",
        "# Hitung waktu training\n",
        "start_time = time.time()\n",
        "\n",
        "grid_search = GridSearchCV(pipeline, param_grid, cv=3, verbose=4)\n",
        "grid_search.fit(X_train, y_train)\n",
        "\n",
        "# Hitung waktu training\n",
        "end_time = time.time()"
      ],
      "metadata": {
        "colab": {
          "base_uri": "https://localhost:8080/"
        },
        "id": "s1H5xwMkLe6P",
        "outputId": "cfec7857-2e6e-4c05-ae93-b7a8bdb12d23"
      },
      "execution_count": 22,
      "outputs": [
        {
          "output_type": "stream",
          "name": "stdout",
          "text": [
            "Fitting 3 folds for each of 16 candidates, totalling 48 fits\n",
            "[CV 1/3] END pca__n_components=2, svm__kernel=linear;, score=0.523 total time=  41.7s\n",
            "[CV 2/3] END pca__n_components=2, svm__kernel=linear;, score=0.528 total time=  34.2s\n",
            "[CV 3/3] END pca__n_components=2, svm__kernel=linear;, score=0.527 total time=  34.8s\n",
            "[CV 1/3] END pca__n_components=2, svm__kernel=rbf;, score=0.565 total time=  21.8s\n",
            "[CV 2/3] END pca__n_components=2, svm__kernel=rbf;, score=0.572 total time=  21.7s\n",
            "[CV 3/3] END pca__n_components=2, svm__kernel=rbf;, score=0.566 total time=  24.3s\n",
            "[CV 1/3] END pca__n_components=2, svm__kernel=poly;, score=0.486 total time=  19.7s\n",
            "[CV 2/3] END pca__n_components=2, svm__kernel=poly;, score=0.485 total time=  19.5s\n",
            "[CV 3/3] END pca__n_components=2, svm__kernel=poly;, score=0.545 total time=  20.5s\n",
            "[CV 1/3] END pca__n_components=2, svm__kernel=sigmoid;, score=0.498 total time=  20.1s\n",
            "[CV 2/3] END pca__n_components=2, svm__kernel=sigmoid;, score=0.506 total time=  22.1s\n",
            "[CV 3/3] END pca__n_components=2, svm__kernel=sigmoid;, score=0.502 total time=  21.3s\n",
            "[CV 1/3] END pca__n_components=1, svm__kernel=linear;, score=0.511 total time=  25.6s\n",
            "[CV 2/3] END pca__n_components=1, svm__kernel=linear;, score=0.513 total time=  22.2s\n",
            "[CV 3/3] END pca__n_components=1, svm__kernel=linear;, score=0.515 total time=  21.5s\n",
            "[CV 1/3] END pca__n_components=1, svm__kernel=rbf;, score=0.529 total time=  24.7s\n",
            "[CV 2/3] END pca__n_components=1, svm__kernel=rbf;, score=0.529 total time=  21.7s\n",
            "[CV 3/3] END pca__n_components=1, svm__kernel=rbf;, score=0.522 total time=  22.2s\n",
            "[CV 1/3] END pca__n_components=1, svm__kernel=poly;, score=0.497 total time=  20.6s\n",
            "[CV 2/3] END pca__n_components=1, svm__kernel=poly;, score=0.499 total time=  20.6s\n",
            "[CV 3/3] END pca__n_components=1, svm__kernel=poly;, score=0.497 total time=  21.7s\n",
            "[CV 1/3] END pca__n_components=1, svm__kernel=sigmoid;, score=0.506 total time=  19.9s\n",
            "[CV 2/3] END pca__n_components=1, svm__kernel=sigmoid;, score=0.500 total time=  19.7s\n",
            "[CV 3/3] END pca__n_components=1, svm__kernel=sigmoid;, score=0.502 total time=  19.4s\n",
            "[CV 1/3] END pca__n_components=0.9, svm__kernel=linear;, score=0.604 total time=35.2min\n",
            "[CV 2/3] END pca__n_components=0.9, svm__kernel=linear;, score=0.606 total time=35.9min\n",
            "[CV 3/3] END pca__n_components=0.9, svm__kernel=linear;, score=0.604 total time=35.7min\n",
            "[CV 1/3] END pca__n_components=0.9, svm__kernel=rbf;, score=0.675 total time=15.7min\n",
            "[CV 2/3] END pca__n_components=0.9, svm__kernel=rbf;, score=0.666 total time=15.7min\n",
            "[CV 3/3] END pca__n_components=0.9, svm__kernel=rbf;, score=0.674 total time=15.9min\n",
            "[CV 1/3] END pca__n_components=0.9, svm__kernel=poly;, score=0.608 total time=15.7min\n",
            "[CV 2/3] END pca__n_components=0.9, svm__kernel=poly;, score=0.608 total time=15.9min\n",
            "[CV 3/3] END pca__n_components=0.9, svm__kernel=poly;, score=0.608 total time=16.0min\n",
            "[CV 1/3] END pca__n_components=0.9, svm__kernel=sigmoid;, score=0.519 total time=14.7min\n",
            "[CV 2/3] END pca__n_components=0.9, svm__kernel=sigmoid;, score=0.518 total time=15.1min\n",
            "[CV 3/3] END pca__n_components=0.9, svm__kernel=sigmoid;, score=0.524 total time=15.8min\n",
            "[CV 1/3] END pca__n_components=0.8, svm__kernel=linear;, score=0.588 total time=20.2min\n",
            "[CV 2/3] END pca__n_components=0.8, svm__kernel=linear;, score=0.585 total time=19.6min\n",
            "[CV 3/3] END pca__n_components=0.8, svm__kernel=linear;, score=0.584 total time=20.0min\n",
            "[CV 1/3] END pca__n_components=0.8, svm__kernel=rbf;, score=0.663 total time=14.6min\n",
            "[CV 2/3] END pca__n_components=0.8, svm__kernel=rbf;, score=0.658 total time=14.6min\n",
            "[CV 3/3] END pca__n_components=0.8, svm__kernel=rbf;, score=0.663 total time=14.6min\n",
            "[CV 1/3] END pca__n_components=0.8, svm__kernel=poly;, score=0.599 total time=14.8min\n",
            "[CV 2/3] END pca__n_components=0.8, svm__kernel=poly;, score=0.603 total time=14.6min\n",
            "[CV 3/3] END pca__n_components=0.8, svm__kernel=poly;, score=0.600 total time=14.5min\n",
            "[CV 1/3] END pca__n_components=0.8, svm__kernel=sigmoid;, score=0.506 total time=14.1min\n",
            "[CV 2/3] END pca__n_components=0.8, svm__kernel=sigmoid;, score=0.518 total time=14.1min\n",
            "[CV 3/3] END pca__n_components=0.8, svm__kernel=sigmoid;, score=0.520 total time=14.3min\n"
          ]
        }
      ]
    },
    {
      "cell_type": "code",
      "source": [
        "# Mendapatkan model terbaik dan parameter terbaik\n",
        "best_pipeline = grid_search.best_estimator_\n",
        "best_params = grid_search.best_params_\n",
        "best_score = grid_search.best_score_\n",
        "\n",
        "print(\"Best Parameters: \", best_params)\n",
        "print(\"Best Score: \", best_score)"
      ],
      "metadata": {
        "colab": {
          "base_uri": "https://localhost:8080/"
        },
        "id": "qrIUnZuq5cN_",
        "outputId": "4599418e-6108-4b45-ec3f-c5b597179c61"
      },
      "execution_count": 23,
      "outputs": [
        {
          "output_type": "stream",
          "name": "stdout",
          "text": [
            "Best Parameters:  {'pca__n_components': 0.9, 'svm__kernel': 'rbf'}\n",
            "Best Score:  0.6716501108637938\n"
          ]
        }
      ]
    },
    {
      "cell_type": "code",
      "source": [
        "# Evaluation on test dataset\n",
        "accuracy = best_pipeline.score(X_test, y_test)\n",
        "print(\"Accuracy:\", accuracy)"
      ],
      "metadata": {
        "colab": {
          "base_uri": "https://localhost:8080/"
        },
        "id": "XBT05uj85gDe",
        "outputId": "11015ed2-8f96-40f1-ac95-d3054bff1b13"
      },
      "execution_count": 27,
      "outputs": [
        {
          "output_type": "stream",
          "name": "stdout",
          "text": [
            "Accuracy: 0.688\n"
          ]
        }
      ]
    },
    {
      "cell_type": "code",
      "source": [
        "y_pred = best_pipeline.predict(X_test)\n",
        "\n",
        "# classification report\n",
        "target_names = ['Cat', 'Dog']\n",
        "classification_rep = classification_report(y_test, y_pred, target_names=target_names)\n",
        "print(\"Classification Report:\\n\", classification_rep)\n",
        "\n",
        "with open(classification_file_path, 'w') as file:\n",
        "    file.write(classification_rep)"
      ],
      "metadata": {
        "colab": {
          "base_uri": "https://localhost:8080/"
        },
        "id": "qbR8R8dq5zwa",
        "outputId": "3a6d4348-5a08-4e8e-9af4-60075b13e753"
      },
      "execution_count": 25,
      "outputs": [
        {
          "output_type": "stream",
          "name": "stdout",
          "text": [
            "Classification Report:\n",
            "               precision    recall  f1-score   support\n",
            "\n",
            "         Cat       0.69      0.70      0.69      2517\n",
            "         Dog       0.69      0.68      0.68      2483\n",
            "\n",
            "    accuracy                           0.69      5000\n",
            "   macro avg       0.69      0.69      0.69      5000\n",
            "weighted avg       0.69      0.69      0.69      5000\n",
            "\n"
          ]
        }
      ]
    },
    {
      "cell_type": "code",
      "source": [
        "# Confusion matrix\n",
        "cm = confusion_matrix(y_test, y_pred)\n",
        "sns.heatmap(cm, annot=True, fmt=\"d\", cmap=\"Blues\")\n",
        "plt.xlabel('Predicted labels')\n",
        "plt.ylabel('True labels')\n",
        "plt.savefig(confusion_image_path)\n",
        "plt.show()"
      ],
      "metadata": {
        "colab": {
          "base_uri": "https://localhost:8080/",
          "height": 449
        },
        "id": "4o0FqVRC6SXR",
        "outputId": "7a835356-886e-4977-e219-7caae82d0a90"
      },
      "execution_count": 26,
      "outputs": [
        {
          "output_type": "display_data",
          "data": {
            "text/plain": [
              "<Figure size 640x480 with 2 Axes>"
            ],
            "image/png": "[encoded data removed]"
          },
          "metadata": {}
        }
      ]
    }
  ]
}